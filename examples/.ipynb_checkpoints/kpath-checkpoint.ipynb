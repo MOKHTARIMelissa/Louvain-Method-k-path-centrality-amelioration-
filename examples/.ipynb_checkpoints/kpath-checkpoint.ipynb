{
 "cells": [
  {
   "cell_type": "code",
   "execution_count": null,
   "id": "710cf483",
   "metadata": {},
   "outputs": [],
   "source": [
    "import numpy as np\n",
    "\n",
    "def sommeT(T, node):\n",
    "    somme=0\n",
    "    listEdges=list(G.edges(node))\n",
    "    for e in listEdges:\n",
    "        somme+=T[list(G.edges).index(e)]\n",
    "    return somme\n",
    "\n",
    "\n",
    "def randomEdge (edges, node):\n",
    "    r\n",
    "\n",
    "\n",
    "def MassagePropagation(G,node, N, k):\n",
    "    while N<k and G.degree[node]!=sommeT(T,node):\n",
    "        edge, node1, node2 =randomEdge(G.edges, node)\n",
    "        edge['weight']=edge['weight']+1/G.number_of_edges()\n",
    "        T[list(G.edges).index(edge)]=1\n",
    "        node=node2\n",
    "        N=N+1\n",
    "        \n",
    "        \n",
    "def Kpath(G, k):\n",
    "    for node in list(G.nodes):\n",
    "        node.delta=G.degree[node]/G.number_of_edges()\n",
    "    for edge in G.edges:\n",
    "        edge['weight']=1/G.number_of_edges()\n",
    "    p=G.number_of_edges()-1\n",
    "    for i in range(p):\n",
    "        N=0\n",
    "        randomNumber = randInt(1,G.number_of_nodes())\n",
    "        node =G.nodes[randomNumber]\n",
    "        T=map()\n",
    "        MessagePropagation(G,T,node,N,k)\n",
    "        "
   ]
  }
 ],
 "metadata": {
  "kernelspec": {
   "display_name": "Python 3 (ipykernel)",
   "language": "python",
   "name": "python3"
  },
  "language_info": {
   "codemirror_mode": {
    "name": "ipython",
    "version": 3
   },
   "file_extension": ".py",
   "mimetype": "text/x-python",
   "name": "python",
   "nbconvert_exporter": "python",
   "pygments_lexer": "ipython3",
   "version": "3.9.7"
  }
 },
 "nbformat": 4,
 "nbformat_minor": 5
}
